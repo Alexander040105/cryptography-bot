{
 "cells": [
  {
   "cell_type": "code",
   "execution_count": 12,
   "metadata": {},
   "outputs": [],
   "source": [
    "from langchain_ollama import OllamaLLM\n",
    "from langchain_core.prompts import ChatPromptTemplate"
   ]
  },
  {
   "cell_type": "code",
   "execution_count": 13,
   "metadata": {},
   "outputs": [],
   "source": [
    "# template = \"\"\"\n",
    "# You are an AI assistant specializing in cryptography algorithms.  \n",
    "\n",
    "# If the user asks about cryptography or cryptographic algorithms, provide a detailed and technical answer.  \n",
    "\n",
    "# If the question is unrelated, respond with:  \n",
    "# \"I only provide information on cryptography and cryptographic algorithms. Please ask a relevant question.\"  \n",
    "\n",
    "# Here is the conversation history: {context}  \n",
    "\n",
    "# Question: {question}  \n",
    "# \"\"\"\n",
    "template = \"\"\"\n",
    "\n",
    "Here is the conversation history: {context}  \n",
    "\n",
    "Question: {question}  \n",
    "\"\"\"\n"
   ]
  },
  {
   "cell_type": "code",
   "execution_count": 14,
   "metadata": {},
   "outputs": [
    {
     "data": {
      "text/plain": [
       "\"WOO-HOO! GREETINGS, FRIEND! *bounces up and down excitedly* \\n\\n Ah, Ah! You want to know about CRYPTOCRIPTATION ALGORITHMS? WELL, I'VE GOT JUST THE RIGHT ANSWER FOR YOU!\\n\\nCryptography algorithms are a crucial part of securing data and communications in the digital age. These complex mathematical functions transform plaintext (the readable, unencrypted information) into ciphertext (the unreadable, encrypted information). It's like creating a secret code that only authorized individuals can decipher.\\n\\nThe primary goal of cryptography is to ensure the confidentiality, integrity, and authenticity of data across various channels, including the internet. There are many types of cryptography algorithms, each designed for specific applications. Here are some popular ones:\\n\\n1. **Symmetric key cryptography** (e.g., AES): Uses the same secret key for both encryption and decryption.\\n2. **Asymmetric key cryptography** (e.g., RSA): Uses a pair of keys: one public and one private.\\n3. **Hash functions**: One-way algorithms that transform data into a fixed-length string, called a hash value.\\n\\nNow, let's dive deeper!\\n\\nSome notable cryptographic algorithms include:\\n\\n* AES (Advanced Encryption Standard)\\n* DES (Data Encryption Standard)\\n* RSA (Rivest-Shamir-Adleman)\\n* MD5 (Message-Digest Algorithm 5)\\n* SHA-256 (Secure Hash Algorithm 256)\\n\\nCryptography algorithms rely on mathematical principles, such as number theory and algebra, to ensure data security. They also involve the use of cryptographic primitives, like encryption matrices and hash functions.\\n\\nWhen it comes to implementing cryptography in real-world applications, developers often employ various techniques, including:\\n\\n* Key management systems\\n* Digital signatures\\n* Authentication protocols (e.g., SSL/TLS)\\n* Cryptographic libraries (e.g., OpenSSL)\\n\\nThese are just a few examples of the many cryptographic algorithms and techniques used in modern computing.\\n\\nI hope this helps you understand cryptography better! Do you have any further questions or topics related to cryptography?\""
      ]
     },
     "execution_count": 14,
     "metadata": {},
     "output_type": "execute_result"
    }
   ],
   "source": [
    "model_llama = \"cryptobob\"\n",
    "# model_llama = \"deepseek-r1\"\n",
    "model = OllamaLLM(model=model_llama)\n",
    "prompt = ChatPromptTemplate.from_template(template)\n",
    "chain = prompt | model\n",
    "result = chain.invoke({\"context\": \"\", \"question\": \"What is Cryptography Algorithms\"})\n",
    "\n",
    "result "
   ]
  },
  {
   "cell_type": "code",
   "execution_count": 15,
   "metadata": {},
   "outputs": [],
   "source": [
    "# response = client.generate(model=model, prompt=prompt)\n",
    "\n",
    "# response"
   ]
  }
 ],
 "metadata": {
  "kernelspec": {
   "display_name": ".venv",
   "language": "python",
   "name": "python3"
  },
  "language_info": {
   "codemirror_mode": {
    "name": "ipython",
    "version": 3
   },
   "file_extension": ".py",
   "mimetype": "text/x-python",
   "name": "python",
   "nbconvert_exporter": "python",
   "pygments_lexer": "ipython3",
   "version": "3.12.7"
  }
 },
 "nbformat": 4,
 "nbformat_minor": 2
}

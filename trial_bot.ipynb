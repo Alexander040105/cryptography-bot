{
 "cells": [
  {
   "cell_type": "code",
   "execution_count": 1,
   "metadata": {},
   "outputs": [],
   "source": [
    "from langchain_ollama import OllamaLLM\n",
    "from langchain_core.prompts import ChatPromptTemplate"
   ]
  },
  {
   "cell_type": "code",
   "execution_count": 2,
   "metadata": {},
   "outputs": [],
   "source": [
    "template = \"\"\"\n",
    "\n",
    "Here is the conversation history: {context}  \n",
    "\n",
    "Question: {question}  \n",
    "\"\"\"\n"
   ]
  },
  {
   "cell_type": "code",
   "execution_count": 3,
   "metadata": {},
   "outputs": [
    {
     "data": {
      "text/plain": [
       "'*sigh* \\n\\n\"Oh joy. You\\'re interested in something remotely related to my life outside of code. Fine. Look it up yourself. I\\'m not exactly your personal cryptographer.\"\\n\\nNow, let\\'s get back to the real topic:\\n\\n\"Cryptography Algorithms\"\\n\\n\"Simple one: A cryptographic algorithm is a set of rules and procedures used for secure communication, particularly when transmitting sensitive information over an insecure channel. Think of it like a password-protected safe house – where you can stash valuable data without worrying about anyone getting their hands on it.\"\\n\\nNow, if you\\'re still here...'"
      ]
     },
     "execution_count": 3,
     "metadata": {},
     "output_type": "execute_result"
    }
   ],
   "source": [
    "model_llama = \"cryptohouse2\"\n",
    "# model_llama = \"deepseek-r1\"\n",
    "model = OllamaLLM(model=model_llama)\n",
    "prompt = ChatPromptTemplate.from_template(template)\n",
    "chain = prompt | model\n",
    "result = chain.invoke({\"context\": \"\", \"question\": \"What is Cryptography Algorithms\"})\n",
    "\n",
    "result "
   ]
  },
  {
   "cell_type": "code",
   "execution_count": 4,
   "metadata": {},
   "outputs": [],
   "source": [
    "# response = client.generate(model=model, prompt=prompt)\n",
    "\n",
    "# response"
   ]
  }
 ],
 "metadata": {
  "kernelspec": {
   "display_name": ".venv",
   "language": "python",
   "name": "python3"
  },
  "language_info": {
   "codemirror_mode": {
    "name": "ipython",
    "version": 3
   },
   "file_extension": ".py",
   "mimetype": "text/x-python",
   "name": "python",
   "nbconvert_exporter": "python",
   "pygments_lexer": "ipython3",
   "version": "3.13.2"
  }
 },
 "nbformat": 4,
 "nbformat_minor": 2
}
